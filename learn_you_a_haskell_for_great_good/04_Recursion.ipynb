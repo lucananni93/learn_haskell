{
 "cells": [
  {
   "cell_type": "markdown",
   "metadata": {},
   "source": [
    "# Recursion"
   ]
  },
  {
   "cell_type": "markdown",
   "metadata": {},
   "source": [
    "## Maximum awesome"
   ]
  },
  {
   "cell_type": "code",
   "execution_count": 1,
   "metadata": {},
   "outputs": [],
   "source": [
    "-- get the maximum of a list\n",
    "maximum' :: (Ord a) => [a] -> a  \n",
    "maximum' [] = error \"maximum of empty list\"  \n",
    "maximum' [x] = x  \n",
    "maximum' (x:xs)   \n",
    "    | x > maxTail = x  \n",
    "    | otherwise = maxTail  \n",
    "    where maxTail = maximum' xs "
   ]
  },
  {
   "cell_type": "code",
   "execution_count": 2,
   "metadata": {},
   "outputs": [],
   "source": [
    "-- using max function to clean up the code\n",
    "maximum' :: (Ord a) => [a] -> a  \n",
    "maximum' [] = error \"maximum of empty list\"  \n",
    "maximum' [x] = x  \n",
    "maximum' (x:xs) = max x (maximum' xs)  "
   ]
  },
  {
   "cell_type": "code",
   "execution_count": 3,
   "metadata": {},
   "outputs": [
    {
     "data": {
      "text/plain": [
       "5"
      ]
     },
     "metadata": {},
     "output_type": "display_data"
    }
   ],
   "source": [
    "maximum' [1, 2, 3, 4, 5]"
   ]
  },
  {
   "cell_type": "code",
   "execution_count": 4,
   "metadata": {},
   "outputs": [],
   "source": [
    "-- returns several repetitions of the same element\n",
    "replicate' :: (Num i, Ord i) => i -> a -> [a]  \n",
    "replicate' n x  \n",
    "    | n <= 0    = []  \n",
    "    | otherwise = x:replicate' (n-1) x  "
   ]
  },
  {
   "cell_type": "code",
   "execution_count": 6,
   "metadata": {},
   "outputs": [
    {
     "data": {
      "text/plain": [
       "[[4],[4],[4]]"
      ]
     },
     "metadata": {},
     "output_type": "display_data"
    }
   ],
   "source": [
    "replicate' 3 [4]"
   ]
  },
  {
   "cell_type": "code",
   "execution_count": 7,
   "metadata": {},
   "outputs": [],
   "source": [
    "-- take a number of elements from a list\n",
    "take' :: (Num i, Ord i) => i -> [a] -> [a]  \n",
    "take' n _  \n",
    "    | n <= 0   = []  \n",
    "take' _ []     = []  \n",
    "take' n (x:xs) = x : take' (n-1) xs "
   ]
  },
  {
   "cell_type": "code",
   "execution_count": 8,
   "metadata": {},
   "outputs": [
    {
     "data": {
      "text/plain": [
       "[1,2,3]"
      ]
     },
     "metadata": {},
     "output_type": "display_data"
    }
   ],
   "source": [
    "take 3 [1, 2, 3, 4, 5, 6, 7]"
   ]
  },
  {
   "cell_type": "code",
   "execution_count": 9,
   "metadata": {},
   "outputs": [],
   "source": [
    "-- takes an element and returns an infinite list that just has that element\n",
    "repeat' :: a -> [a]  \n",
    "repeat' x = x:repeat' x  "
   ]
  },
  {
   "cell_type": "code",
   "execution_count": 10,
   "metadata": {},
   "outputs": [
    {
     "data": {
      "text/plain": [
       "[5,5,5,5,5]"
      ]
     },
     "metadata": {},
     "output_type": "display_data"
    }
   ],
   "source": [
    "take 5 (repeat' 5)"
   ]
  },
  {
   "cell_type": "code",
   "execution_count": 11,
   "metadata": {},
   "outputs": [],
   "source": [
    "-- takes two lists and zips them together\n",
    "zip' :: [a] -> [b] -> [(a,b)]  \n",
    "zip' _ [] = []  \n",
    "zip' [] _ = []  \n",
    "zip' (x:xs) (y:ys) = (x,y):zip' xs ys  "
   ]
  },
  {
   "cell_type": "code",
   "execution_count": 14,
   "metadata": {},
   "outputs": [
    {
     "data": {
      "text/plain": [
       "[(1,2),(2,3),(3,4),(4,5)]"
      ]
     },
     "metadata": {},
     "output_type": "display_data"
    }
   ],
   "source": [
    "zip' [1, 2, 3, 4] [2, 3, 4, 5]"
   ]
  },
  {
   "cell_type": "code",
   "execution_count": 15,
   "metadata": {},
   "outputs": [],
   "source": [
    "-- takes an element and a list and sees if that element is in the list\n",
    "elem' :: (Eq a) => a -> [a] -> Bool  \n",
    "elem' a [] = False  \n",
    "elem' a (x:xs)  \n",
    "    | a == x    = True  \n",
    "    | otherwise = a `elem'` xs   "
   ]
  },
  {
   "cell_type": "code",
   "execution_count": 16,
   "metadata": {},
   "outputs": [
    {
     "data": {
      "text/plain": [
       "True"
      ]
     },
     "metadata": {},
     "output_type": "display_data"
    }
   ],
   "source": [
    "elem' 4 [1, 2, 4, 5]"
   ]
  },
  {
   "cell_type": "markdown",
   "metadata": {},
   "source": [
    "## Quick, sort!"
   ]
  },
  {
   "cell_type": "code",
   "execution_count": 18,
   "metadata": {},
   "outputs": [],
   "source": [
    "-- Quick Sort sorting algorithm\n",
    "quicksort :: (Ord a) => [a] -> [a]  \n",
    "quicksort [] = [] -- a sorted empty list is an empty list\n",
    "-- a sorted list is a list that has all the values smaller than \n",
    "-- (or equal to) the head of the list in front (and those values \n",
    "-- are sorted), then comes the head of the list in the middle and \n",
    "-- then come all the values that are bigger than the head (they're \n",
    "-- also sorted).\n",
    "quicksort (x:xs) =   \n",
    "    let smallerSorted = quicksort [a | a <- xs, a <= x]  \n",
    "        biggerSorted = quicksort [a | a <- xs, a > x]  \n",
    "    in  smallerSorted ++ [x] ++ biggerSorted  "
   ]
  },
  {
   "cell_type": "code",
   "execution_count": 19,
   "metadata": {},
   "outputs": [
    {
     "data": {
      "text/plain": [
       "[1,2,2,3,3,4,4,5,6,7,8,9,10]"
      ]
     },
     "metadata": {},
     "output_type": "display_data"
    }
   ],
   "source": [
    "quicksort [10,2,5,3,1,6,7,4,2,3,4,8,9]"
   ]
  }
 ],
 "metadata": {
  "kernelspec": {
   "display_name": "Haskell",
   "language": "haskell",
   "name": "haskell"
  },
  "language_info": {
   "codemirror_mode": "ihaskell",
   "file_extension": ".hs",
   "name": "haskell",
   "pygments_lexer": "Haskell",
   "version": "8.6.3"
  }
 },
 "nbformat": 4,
 "nbformat_minor": 2
}
